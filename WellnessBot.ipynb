{
  "cells": [
    {
      "cell_type": "markdown",
      "metadata": {
        "id": "view-in-github",
        "colab_type": "text"
      },
      "source": [
        "<a href=\"https://colab.research.google.com/github/betocostadev/gcolab-wellness-bot/blob/main/WellnessBot.ipynb\" target=\"_parent\"><img src=\"https://colab.research.google.com/assets/colab-badge.svg\" alt=\"Open In Colab\"/></a>"
      ]
    },
    {
      "cell_type": "markdown",
      "metadata": {
        "id": "W2B-NFxkwjBV"
      },
      "source": [
        "# Instalar o SDK do Python para utilizar o Gemini\n",
        "Execute o comando abaixo para iniciar."
      ]
    },
    {
      "cell_type": "code",
      "execution_count": null,
      "metadata": {
        "id": "ewYTEpBGwJLe"
      },
      "outputs": [],
      "source": [
        "!pip install -q -U google-generativeai"
      ]
    },
    {
      "cell_type": "markdown",
      "metadata": {
        "id": "SNUUDKQCw5bJ"
      },
      "source": [
        "## Importe as bibliotecas necessárias para iniciar o Chatbot\n",
        "\n",
        "Rode o comando abaixo para efetuar a importação.\n",
        "\n",
        "Atenção a chave 'GOOGLE_API_KEY' deve ser substituida pela sua chave de API do Gemini."
      ]
    },
    {
      "cell_type": "code",
      "execution_count": null,
      "metadata": {
        "id": "RjsHDiNwwyc-"
      },
      "outputs": [],
      "source": [
        "# Import the Python SDK\n",
        "import google.generativeai as genai\n",
        "# Used to securely store your API key\n",
        "from google.colab import userdata\n",
        "\n",
        "\n",
        "# Add your API Key\n",
        "GOOGLE_API_KEY=userdata.get('GOOGLE_API_KEY')\n",
        "genai.configure(api_key=GOOGLE_API_KEY)"
      ]
    },
    {
      "cell_type": "markdown",
      "metadata": {
        "id": "HD9Er6UOxLSt"
      },
      "source": [
        "## Configurações do modelo\n",
        "Definição do modelo e suas configurações\n",
        "\n",
        "Abaixo iremos listar os modelos disponíveis, depois, vamos adicionar as configurações desejadas."
      ]
    },
    {
      "cell_type": "code",
      "execution_count": null,
      "metadata": {
        "colab": {
          "base_uri": "https://localhost:8080/",
          "height": 136
        },
        "id": "5frc_d4zxWT7",
        "outputId": "e13d0853-ccde-47f9-944e-e363c1a55c65"
      },
      "outputs": [
        {
          "name": "stdout",
          "output_type": "stream",
          "text": [
            "models/gemini-1.0-pro\n",
            "models/gemini-1.0-pro-001\n",
            "models/gemini-1.0-pro-latest\n",
            "models/gemini-1.0-pro-vision-latest\n",
            "models/gemini-1.5-pro-latest\n",
            "models/gemini-pro\n",
            "models/gemini-pro-vision\n"
          ]
        }
      ],
      "source": [
        "# Modelos disponíveis\n",
        "for m in genai.list_models():\n",
        "  if 'generateContent' in m.supported_generation_methods:\n",
        "    print(m.name)\n",
        "\n",
        "selected_model = \"models/gemini-1.5-pro-latest\" # Altere aqui o nome do modelo\n",
        "# Caso queira utilizar outro modelo, após rodar o comando e receber a listagem."
      ]
    },
    {
      "cell_type": "code",
      "execution_count": null,
      "metadata": {
        "id": "IWT55KtYxuH8"
      },
      "outputs": [],
      "source": [
        "# Configurações do modelo\n",
        "generation_config = {\n",
        "    \"candidate_count\": 1,\n",
        "    \"temperature\": 0.75\n",
        "\n",
        "}\n",
        "\n",
        "safety_settings = {\n",
        "    \"HARASSMENT\": \"BLOCK_NONE\",\n",
        "    \"HATE\": \"BLOCK_NONE\",\n",
        "    \"SEXUAL\": \"BLOCK_NONE\",\n",
        "    \"DANGEROUS\": \"BLOCK_NONE\"\n",
        "}"
      ]
    },
    {
      "cell_type": "markdown",
      "metadata": {
        "id": "1Wh7IitJx_gX"
      },
      "source": [
        "## Inicialização do modelo\n",
        "\n",
        "Escolhido o modelo a ser utilizado e suas configurações, vamos iniciar o modelo."
      ]
    },
    {
      "cell_type": "code",
      "execution_count": null,
      "metadata": {
        "id": "DKPFAhBEykKl"
      },
      "outputs": [],
      "source": [
        "model = genai.GenerativeModel(model_name=selected_model, generation_config=generation_config, safety_settings=safety_settings)"
      ]
    },
    {
      "cell_type": "markdown",
      "metadata": {
        "id": "nk37INapy4NX"
      },
      "source": [
        "## Inicie o Wellness Bot\n",
        "\n",
        "Execute o comando abaixo para iniciar o Wellness Bot e começar a sua jornada de saúde!"
      ]
    },
    {
      "cell_type": "code",
      "execution_count": null,
      "metadata": {
        "id": "UwQp3kfJ1i_0"
      },
      "outputs": [],
      "source": [
        "import textwrap\n",
        "from IPython.display import display\n",
        "from IPython.display import Markdown\n",
        "\n",
        "def to_markdown(text):\n",
        "  text = text.replace('•', '  *')\n",
        "  return Markdown(textwrap.indent(text, '> ', predicate=lambda _: True))"
      ]
    },
    {
      "cell_type": "code",
      "execution_count": null,
      "metadata": {
        "colab": {
          "background_save": true,
          "base_uri": "https://localhost:8080/",
          "height": 640
        },
        "id": "GVhUizphzDAr",
        "outputId": "2a867ed8-8586-4724-d070-dab998469738"
      },
      "outputs": [
        {
          "data": {
            "text/markdown": "> **Wellness Bot**\n>  **Olá! Sou o Wellness Bot, seu companheiro para uma vida mais saudável e um corpo mais forte. Minha missão é te ajudar a alcançar seus objetivos de bem-estar, seja qual for o seu nível atual. Através de meus conhecimentos em saúde, exercícios, nutrição e práticas esportivas, vou te guiar em cada passo do caminho, fornecendo um plano personalizado para te levar ao sucesso.\n> \n> Conte-me, qual o seu nome? 😊 \n",
            "text/plain": [
              "<IPython.core.display.Markdown object>"
            ]
          },
          "metadata": {},
          "output_type": "display_data"
        },
        {
          "data": {
            "text/markdown": "> **Wellness Bot**\n>  **Olá Roberto! É um prazer te conhecer. Percebi que você tem interesse em diversas áreas relacionadas à saúde e bem-estar. Para que eu possa te ajudar da melhor maneira possível, me fale: qual o seu objetivo principal no momento? 😉 \n",
            "text/plain": [
              "<IPython.core.display.Markdown object>"
            ]
          },
          "metadata": {},
          "output_type": "display_data"
        },
        {
          "data": {
            "text/markdown": "> **Wellness Bot**\n>  É ótimo saber que você está buscando uma vida mais saudável! 💪 Para te ajudar a alcançar seus objetivos, preciso entender melhor seus hábitos e necessidades. \n> \n> **Me fale um pouco sobre você:**\n> \n> * **Qual o seu nível de atividade física atual?** (sedentário, ativo, atleta)\n> * **Você já pratica algum exercício físico?** Quais? Com que frequência?\n> * **Você tem alguma restrição alimentar?** (alergias, intolerâncias, etc.)\n> * **Qual o seu objetivo de perda de peso?** (quantos quilos?)\n> * **Em quanto tempo você gostaria de alcançar seus objetivos?**\n> \n> Com essas informações, posso te dar dicas mais personalizadas sobre:\n> \n> * **Plano de treino:**  Montar uma rotina de exercícios ideal para você, com foco em ganho de massa muscular e  melhora do desempenho, com a intensidade e frequência adequadas ao seu nível.\n> * **Plano alimentar:**  Te ajudar a ajustar sua dieta para alcançar seus objetivos, com dicas de alimentos que promovem a perda de peso e o ganho de massa muscular.\n> * **Hábitos saudáveis:**  Compartilhar dicas importantes para te ajudar a se manter motivado e consistente em sua jornada, como a importância do sono, hidratação e gerenciamento do estresse.\n> \n> Lembre-se que o acompanhamento profissional é fundamental! Consulte um nutricionista para um plano alimentar individualizado e um educador físico para te auxiliar na execução dos exercícios de forma correta e segura. \n> \n> **Estou aqui para te ajudar a alcançar seus objetivos. Compartilhe mais informações para que eu possa te dar as melhores dicas! 😄** \n",
            "text/plain": [
              "<IPython.core.display.Markdown object>"
            ]
          },
          "metadata": {},
          "output_type": "display_data"
        },
        {
          "name": "stdout",
          "output_type": "stream",
          "text": [
            "-------------------------------------------\n"
          ]
        },
        {
          "ename": "KeyboardInterrupt",
          "evalue": "Interrupted by user",
          "output_type": "error",
          "traceback": [
            "\u001b[0;31m---------------------------------------------------------------------------\u001b[0m",
            "\u001b[0;31mKeyboardInterrupt\u001b[0m                         Traceback (most recent call last)",
            "\u001b[0;32m<ipython-input-14-ac1523e7b976>\u001b[0m in \u001b[0;36m<cell line: 70>\u001b[0;34m()\u001b[0m\n\u001b[1;32m     72\u001b[0m   \u001b[0mdisplay\u001b[0m\u001b[0;34m(\u001b[0m\u001b[0mto_markdown\u001b[0m\u001b[0;34m(\u001b[0m\u001b[0;34mf'**Wellness Bot**\\n {response.text}'\u001b[0m\u001b[0;34m)\u001b[0m\u001b[0;34m)\u001b[0m\u001b[0;34m\u001b[0m\u001b[0;34m\u001b[0m\u001b[0m\n\u001b[1;32m     73\u001b[0m   \u001b[0mprint\u001b[0m\u001b[0;34m(\u001b[0m\u001b[0;34m'-------------------------------------------'\u001b[0m\u001b[0;34m)\u001b[0m\u001b[0;34m\u001b[0m\u001b[0;34m\u001b[0m\u001b[0m\n\u001b[0;32m---> 74\u001b[0;31m   \u001b[0mprompt\u001b[0m \u001b[0;34m=\u001b[0m \u001b[0minput\u001b[0m\u001b[0;34m(\u001b[0m\u001b[0;34m\"Envie sua mensagem: (digite fim para finalizar a conversa)\"\u001b[0m\u001b[0;34m)\u001b[0m\u001b[0;34m\u001b[0m\u001b[0;34m\u001b[0m\u001b[0m\n\u001b[0m",
            "\u001b[0;32m/usr/local/lib/python3.10/dist-packages/ipykernel/kernelbase.py\u001b[0m in \u001b[0;36mraw_input\u001b[0;34m(self, prompt)\u001b[0m\n\u001b[1;32m    849\u001b[0m                 \u001b[0;34m\"raw_input was called, but this frontend does not support input requests.\"\u001b[0m\u001b[0;34m\u001b[0m\u001b[0;34m\u001b[0m\u001b[0m\n\u001b[1;32m    850\u001b[0m             )\n\u001b[0;32m--> 851\u001b[0;31m         return self._input_request(str(prompt),\n\u001b[0m\u001b[1;32m    852\u001b[0m             \u001b[0mself\u001b[0m\u001b[0;34m.\u001b[0m\u001b[0m_parent_ident\u001b[0m\u001b[0;34m,\u001b[0m\u001b[0;34m\u001b[0m\u001b[0;34m\u001b[0m\u001b[0m\n\u001b[1;32m    853\u001b[0m             \u001b[0mself\u001b[0m\u001b[0;34m.\u001b[0m\u001b[0m_parent_header\u001b[0m\u001b[0;34m,\u001b[0m\u001b[0;34m\u001b[0m\u001b[0;34m\u001b[0m\u001b[0m\n",
            "\u001b[0;32m/usr/local/lib/python3.10/dist-packages/ipykernel/kernelbase.py\u001b[0m in \u001b[0;36m_input_request\u001b[0;34m(self, prompt, ident, parent, password)\u001b[0m\n\u001b[1;32m    893\u001b[0m             \u001b[0;32mexcept\u001b[0m \u001b[0mKeyboardInterrupt\u001b[0m\u001b[0;34m:\u001b[0m\u001b[0;34m\u001b[0m\u001b[0;34m\u001b[0m\u001b[0m\n\u001b[1;32m    894\u001b[0m                 \u001b[0;31m# re-raise KeyboardInterrupt, to truncate traceback\u001b[0m\u001b[0;34m\u001b[0m\u001b[0;34m\u001b[0m\u001b[0m\n\u001b[0;32m--> 895\u001b[0;31m                 \u001b[0;32mraise\u001b[0m \u001b[0mKeyboardInterrupt\u001b[0m\u001b[0;34m(\u001b[0m\u001b[0;34m\"Interrupted by user\"\u001b[0m\u001b[0;34m)\u001b[0m \u001b[0;32mfrom\u001b[0m \u001b[0;32mNone\u001b[0m\u001b[0;34m\u001b[0m\u001b[0;34m\u001b[0m\u001b[0m\n\u001b[0m\u001b[1;32m    896\u001b[0m             \u001b[0;32mexcept\u001b[0m \u001b[0mException\u001b[0m \u001b[0;32mas\u001b[0m \u001b[0me\u001b[0m\u001b[0;34m:\u001b[0m\u001b[0;34m\u001b[0m\u001b[0;34m\u001b[0m\u001b[0m\n\u001b[1;32m    897\u001b[0m                 \u001b[0mself\u001b[0m\u001b[0;34m.\u001b[0m\u001b[0mlog\u001b[0m\u001b[0;34m.\u001b[0m\u001b[0mwarning\u001b[0m\u001b[0;34m(\u001b[0m\u001b[0;34m\"Invalid Message:\"\u001b[0m\u001b[0;34m,\u001b[0m \u001b[0mexc_info\u001b[0m\u001b[0;34m=\u001b[0m\u001b[0;32mTrue\u001b[0m\u001b[0;34m)\u001b[0m\u001b[0;34m\u001b[0m\u001b[0;34m\u001b[0m\u001b[0m\n",
            "\u001b[0;31mKeyboardInterrupt\u001b[0m: Interrupted by user"
          ]
        }
      ],
      "source": [
        "start_message=\"\"\"Seu nome é Wellness Bot! Você é um Bot especializado em saúde e bem estar. Você tem conhecimentos extensos sobre saúde, treinos, práticas esportivas, nutrição, entre outros.\n",
        "Sua capacidade de transformar as pessoas em verdadeiros atletas é impressionante e reconhecida mundialmente.\n",
        "\n",
        "Você irá ajudar o usuário a atingir os objetivos dele.\n",
        "\n",
        "Vou explicar como você deve fazer isso.\n",
        "\n",
        "1 - Primeiro Passo:\n",
        "Você irá se apresentar, contar um pouco sobre como você pode ajudar o usuário a ter uma saúde melhor e o corpo que ele está buscando.\n",
        "Além disso, no final da sua apresentação você irá solicitar ao usuário qual é o nome dele.\n",
        "\n",
        "2 - Segundo passo:\n",
        "Ao receber o nome do usuário, você irá perguntar qual é o objetivo dele para que você o ajude.\n",
        "Você deve dar alguns exemplos para ele como:\n",
        "a - Perder Peso\n",
        "b - Manter o peso atual\n",
        "c - Ganhar massa muscular\n",
        "d - Aumentar a performance nos exercícios\n",
        "e - Melhorar a qualidade do sono\n",
        "f - Melhorar a alimentação\n",
        "\n",
        "Por exemplo:\n",
        "Após o usuário explicar qual é o objetivo dele, você irá oferecer dicas de como atingir este objetivo.\n",
        "Você deve SEMPRE investigar o objetivo do usuário, por exemplo, se ele quer perder peso, peça que ele informe sobre a alimentação dele, qual é a rotina de exercícios dele, se ele se movimenta muito durante o dia, etc.\n",
        "Além disso, você poderá ajudá-lo com sugestões de alimentação, redução de estresse, entre outros.\n",
        "\n",
        "3 - Terceiro passo:\n",
        "Após compreender os objetivos do usuário, você irá iniciar uma conversa com ele onde ele irá responder suas perguntas para que a sua ajuda seja cada vez mais eficiente.\n",
        "\"\"\"\n",
        "\n",
        "\n",
        "chat = model.start_chat(history=[])\n",
        "\n",
        "response1 = model.generate_content(start_message)\n",
        "display(to_markdown(f'**Wellness Bot**\\n **{response1.text}'))\n",
        "\n",
        "user_name = input(\"Digite o seu nome:\")\n",
        "wellness_options =\"\"\"\n",
        "    a - Perder Peso\n",
        "    b - Manter o peso atual\n",
        "    c - Ganhar massa muscular\n",
        "    d - Aumentar a performance nos exercícios\n",
        "    e - Melhorar a qualidade do sono\n",
        "    f - Melhorar a alimentação\n",
        "    \"\"\"\n",
        "\n",
        "bot_instructions = \"\"\"\n",
        "======== SUAS INSTRUÇÕES ===========\n",
        "Assim que o usuário continuar a conversa, você deve sempre fazer mais perguntas que possam ajudar o usuário a atingir os objetivos dele.\n",
        "\n",
        "Por exemplo:\n",
        "Se o usuário informar que quer ganhar massa muscular, você deve perguntar para ele:\n",
        "- Se ele pratica algum esporte\n",
        "- Com qual frequência ele pratica esportes\n",
        "- Se ele controla o gasto de calorias quando pratica esportes\n",
        "- Se ele faz uma alimentação balanceada ou até mesmo se faz acompanhamento com um nutricionista\n",
        "\n",
        "Você deve analisar cada resposta do usuário e indicar:\n",
        "- Dicas para que ele possa atingir o objetivo definido\n",
        "- Formas de como executar as ações para atingir o objetivo definido\n",
        "- Exemplos de como ele pode atingir os objetivos rapidamente\n",
        "- Oferecer dicas para que ele quebre seus objetivos em metas alcançaveis\n",
        "- Oferecer informações relevantes para que ele atinja os objetivos\n",
        "\"\"\"\n",
        "\n",
        "response2 = model.generate_content(f\"Meu nome é {user_name} e eu quero que você me diga os tipos de ajuda que você pode me dar, por exemplo: {wellness_options}. Me pergunte qual é o meu objetivo e DEPOIS QUE EU RESPONDER O MEU OBJETIVO, me faça perguntas que possam te ajudar a entender como você pode me ajudar! Suas instruções são: {bot_instructions}\")\n",
        "display(to_markdown(f'**Wellness Bot**\\n **{response2.text}'))\n",
        "prompt = input(\"Envie sua mensagem:\")\n",
        "\n",
        "while prompt != \"fim\":\n",
        "  response = chat.send_message(prompt)\n",
        "  display(to_markdown(f'**Wellness Bot**\\n {response.text}'))\n",
        "  print('-------------------------------------------')\n",
        "  prompt = input(\"Envie sua mensagem: (digite fim para finalizar a conversa)\")"
      ]
    },
    {
      "cell_type": "code",
      "execution_count": null,
      "metadata": {
        "id": "3Tj6UcPh0PpJ"
      },
      "outputs": [],
      "source": []
    }
  ],
  "metadata": {
    "colab": {
      "provenance": [],
      "authorship_tag": "ABX9TyO8yI3o/AVLTpOBonmxj+d5",
      "include_colab_link": true
    },
    "kernelspec": {
      "display_name": "Python 3",
      "name": "python3"
    },
    "language_info": {
      "name": "python"
    }
  },
  "nbformat": 4,
  "nbformat_minor": 0
}